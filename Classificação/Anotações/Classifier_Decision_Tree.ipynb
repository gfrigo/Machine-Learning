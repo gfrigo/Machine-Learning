{
 "cells": [
  {
   "cell_type": "markdown",
   "id": "4e60884d-219c-487a-a0a1-ec4e638e65d1",
   "metadata": {},
   "source": [
    "# Classifier Decision Tree"
   ]
  },
  {
   "cell_type": "markdown",
   "id": "d083c8bb-6c2c-4536-b6d1-443d7f5295f6",
   "metadata": {},
   "source": [
    "## Import"
   ]
  },
  {
   "cell_type": "code",
   "execution_count": null,
   "id": "b3abd420-1d44-4713-9a95-9548dea5afea",
   "metadata": {},
   "outputs": [],
   "source": []
  },
  {
   "cell_type": "markdown",
   "id": "8e26c874-fba5-4d8c-b293-e18b8c289083",
   "metadata": {},
   "source": [
    "## Dataframe"
   ]
  },
  {
   "cell_type": "code",
   "execution_count": null,
   "id": "9c90c355-1693-4950-b11d-1574b5af098b",
   "metadata": {},
   "outputs": [],
   "source": []
  }
 ],
 "metadata": {
  "kernelspec": {
   "display_name": "Python 3 (ipykernel)",
   "language": "python",
   "name": "python3"
  },
  "language_info": {
   "codemirror_mode": {
    "name": "ipython",
    "version": 3
   },
   "file_extension": ".py",
   "mimetype": "text/x-python",
   "name": "python",
   "nbconvert_exporter": "python",
   "pygments_lexer": "ipython3",
   "version": "3.11.5"
  }
 },
 "nbformat": 4,
 "nbformat_minor": 5
}
