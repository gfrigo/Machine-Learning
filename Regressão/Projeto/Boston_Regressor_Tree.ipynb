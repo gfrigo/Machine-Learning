{
 "cells": [
  {
   "cell_type": "markdown",
   "metadata": {},
   "source": [
    "#  base de dados imobiliários de Boston\n",
    "\n",
    "A descrição das variáveis está abaixo:"
   ]
  },
  {
   "cell_type": "markdown",
   "metadata": {},
   "source": [
    "| Variavel | Descrição|\n",
    "|-|-|\n",
    "|CRIM| taxa de crimes per-cápita da cidade | \n",
    "|ZN| proporção de terrenos residenciais zoneados para lotes com mais de 25.000 pés quadrados. |\n",
    "|INDUS| proporção de acres de negócios não varejistas por cidade |\n",
    "|CHAS |vale 1 se o terreno faz fronteira com o *Charles River*; 0 caso contrário |\n",
    "|NOX| Concentração de óxido nítrico (em partes por 10 milhões) |\n",
    "|RM| número médio de quartos por habitação |\n",
    "|AGE| proporção de unidades ocupadas pelo proprietário construídas antes de 1940 |\n",
    "|DIS| distâncias ponderadas até cinco centros de empregos de Boston |\n",
    "|RAD| índice de acessibilidade a rodovias radiais |\n",
    "|TAX| taxa de imposto sobre a propriedade de valor total por \\\\$10,000 |\n",
    "|PTRATIO| razão pupilo-professor da cidade |\n",
    "|B| $ 1000 (Bk - 0,63) ^ 2 $ onde Bk é a proporção de negros por cidade |\n",
    "|LSTAT| \\%status inferior da população |\n",
    "|MEDV| (variável resposta) Valor mediano das casas ocupadas pelo proprietário em US $ 1.000|"
   ]
  },
  {
   "cell_type": "code",
   "execution_count": 174,
   "metadata": {},
   "outputs": [],
   "source": [
    "import numpy as np\n",
    "import pandas as pd\n",
    "\n",
    "import matplotlib.pyplot as plt\n",
    "import seaborn as sns\n",
    "import plotly.express as px\n",
    "\n",
    "from sklearn import datasets  # FutureWarning\n",
    "from sklearn.model_selection import train_test_split\n",
    "from sklearn.tree import DecisionTreeRegressor\n",
    "from sklearn.metrics import mean_squared_error\n",
    "from sklearn import tree"
   ]
  },
  {
   "cell_type": "code",
   "execution_count": 20,
   "metadata": {},
   "outputs": [
    {
     "data": {
      "text/html": [
       "<div>\n",
       "<style scoped>\n",
       "    .dataframe tbody tr th:only-of-type {\n",
       "        vertical-align: middle;\n",
       "    }\n",
       "\n",
       "    .dataframe tbody tr th {\n",
       "        vertical-align: top;\n",
       "    }\n",
       "\n",
       "    .dataframe thead th {\n",
       "        text-align: right;\n",
       "    }\n",
       "</style>\n",
       "<table border=\"1\" class=\"dataframe\">\n",
       "  <thead>\n",
       "    <tr style=\"text-align: right;\">\n",
       "      <th></th>\n",
       "      <th>CRIM</th>\n",
       "      <th>ZN</th>\n",
       "      <th>INDUS</th>\n",
       "      <th>CHAS</th>\n",
       "      <th>NOX</th>\n",
       "      <th>RM</th>\n",
       "      <th>AGE</th>\n",
       "      <th>DIS</th>\n",
       "      <th>RAD</th>\n",
       "      <th>TAX</th>\n",
       "      <th>PTRATIO</th>\n",
       "      <th>B</th>\n",
       "      <th>LSTAT</th>\n",
       "      <th>MEDV</th>\n",
       "    </tr>\n",
       "  </thead>\n",
       "  <tbody>\n",
       "    <tr>\n",
       "      <th>0</th>\n",
       "      <td>0.00632</td>\n",
       "      <td>18.0</td>\n",
       "      <td>2.31</td>\n",
       "      <td>0.0</td>\n",
       "      <td>0.538</td>\n",
       "      <td>6.575</td>\n",
       "      <td>65.2</td>\n",
       "      <td>4.0900</td>\n",
       "      <td>1.0</td>\n",
       "      <td>296.0</td>\n",
       "      <td>15.3</td>\n",
       "      <td>396.90</td>\n",
       "      <td>4.98</td>\n",
       "      <td>24.0</td>\n",
       "    </tr>\n",
       "    <tr>\n",
       "      <th>1</th>\n",
       "      <td>0.02731</td>\n",
       "      <td>0.0</td>\n",
       "      <td>7.07</td>\n",
       "      <td>0.0</td>\n",
       "      <td>0.469</td>\n",
       "      <td>6.421</td>\n",
       "      <td>78.9</td>\n",
       "      <td>4.9671</td>\n",
       "      <td>2.0</td>\n",
       "      <td>242.0</td>\n",
       "      <td>17.8</td>\n",
       "      <td>396.90</td>\n",
       "      <td>9.14</td>\n",
       "      <td>21.6</td>\n",
       "    </tr>\n",
       "    <tr>\n",
       "      <th>2</th>\n",
       "      <td>0.02729</td>\n",
       "      <td>0.0</td>\n",
       "      <td>7.07</td>\n",
       "      <td>0.0</td>\n",
       "      <td>0.469</td>\n",
       "      <td>7.185</td>\n",
       "      <td>61.1</td>\n",
       "      <td>4.9671</td>\n",
       "      <td>2.0</td>\n",
       "      <td>242.0</td>\n",
       "      <td>17.8</td>\n",
       "      <td>392.83</td>\n",
       "      <td>4.03</td>\n",
       "      <td>34.7</td>\n",
       "    </tr>\n",
       "    <tr>\n",
       "      <th>3</th>\n",
       "      <td>0.03237</td>\n",
       "      <td>0.0</td>\n",
       "      <td>2.18</td>\n",
       "      <td>0.0</td>\n",
       "      <td>0.458</td>\n",
       "      <td>6.998</td>\n",
       "      <td>45.8</td>\n",
       "      <td>6.0622</td>\n",
       "      <td>3.0</td>\n",
       "      <td>222.0</td>\n",
       "      <td>18.7</td>\n",
       "      <td>394.63</td>\n",
       "      <td>2.94</td>\n",
       "      <td>33.4</td>\n",
       "    </tr>\n",
       "    <tr>\n",
       "      <th>4</th>\n",
       "      <td>0.06905</td>\n",
       "      <td>0.0</td>\n",
       "      <td>2.18</td>\n",
       "      <td>0.0</td>\n",
       "      <td>0.458</td>\n",
       "      <td>7.147</td>\n",
       "      <td>54.2</td>\n",
       "      <td>6.0622</td>\n",
       "      <td>3.0</td>\n",
       "      <td>222.0</td>\n",
       "      <td>18.7</td>\n",
       "      <td>396.90</td>\n",
       "      <td>5.33</td>\n",
       "      <td>36.2</td>\n",
       "    </tr>\n",
       "  </tbody>\n",
       "</table>\n",
       "</div>"
      ],
      "text/plain": [
       "      CRIM    ZN  INDUS  CHAS    NOX     RM   AGE     DIS  RAD    TAX  \\\n",
       "0  0.00632  18.0   2.31   0.0  0.538  6.575  65.2  4.0900  1.0  296.0   \n",
       "1  0.02731   0.0   7.07   0.0  0.469  6.421  78.9  4.9671  2.0  242.0   \n",
       "2  0.02729   0.0   7.07   0.0  0.469  7.185  61.1  4.9671  2.0  242.0   \n",
       "3  0.03237   0.0   2.18   0.0  0.458  6.998  45.8  6.0622  3.0  222.0   \n",
       "4  0.06905   0.0   2.18   0.0  0.458  7.147  54.2  6.0622  3.0  222.0   \n",
       "\n",
       "   PTRATIO       B  LSTAT  MEDV  \n",
       "0     15.3  396.90   4.98  24.0  \n",
       "1     17.8  396.90   9.14  21.6  \n",
       "2     17.8  392.83   4.03  34.7  \n",
       "3     18.7  394.63   2.94  33.4  \n",
       "4     18.7  396.90   5.33  36.2  "
      ]
     },
     "execution_count": 20,
     "metadata": {},
     "output_type": "execute_result"
    }
   ],
   "source": [
    "data_url = 'https://raw.githubusercontent.com/rhatiro/Curso_EBAC-Profissao_Cientista_de_Dados/main/Mo%CC%81dulo%2011%20-%20A%CC%81rvores%20II%20(Parte%20I-%20a%CC%81rvore%20de%20regressa%CC%83o)/database/boston.csv'\n",
    "raw_df = pd.read_csv(data_url, sep=\"\\s+\", skiprows=22, header=None)\n",
    "\n",
    "columns = ['CRIM', 'ZN', 'INDUS', 'CHAS', 'NOX', 'RM', 'AGE', 'DIS', 'RAD', 'TAX', 'PTRATIO', 'B', 'LSTAT', 'MEDV']\n",
    "df = pd.DataFrame(data=np.hstack([raw_df.values[::2, :], \n",
    "                                  raw_df.values[1::2, :3]]), \n",
    "                  columns=columns)\n",
    "\n",
    "df.to_csv(path_or_buf='boston_clean_data.csv', index=False)\n",
    "\n",
    "df.head()"
   ]
  },
  {
   "cell_type": "markdown",
   "metadata": {},
   "source": [
    "### 1. Tratamento"
   ]
  },
  {
   "cell_type": "code",
   "execution_count": 21,
   "metadata": {},
   "outputs": [
    {
     "data": {
      "text/plain": [
       "(506, 14)"
      ]
     },
     "execution_count": 21,
     "metadata": {},
     "output_type": "execute_result"
    }
   ],
   "source": [
    "df.shape"
   ]
  },
  {
   "cell_type": "code",
   "execution_count": 22,
   "metadata": {},
   "outputs": [
    {
     "name": "stdout",
     "output_type": "stream",
     "text": [
      "<class 'pandas.core.frame.DataFrame'>\n",
      "RangeIndex: 506 entries, 0 to 505\n",
      "Data columns (total 14 columns):\n",
      " #   Column   Non-Null Count  Dtype  \n",
      "---  ------   --------------  -----  \n",
      " 0   CRIM     506 non-null    float64\n",
      " 1   ZN       506 non-null    float64\n",
      " 2   INDUS    506 non-null    float64\n",
      " 3   CHAS     506 non-null    float64\n",
      " 4   NOX      506 non-null    float64\n",
      " 5   RM       506 non-null    float64\n",
      " 6   AGE      506 non-null    float64\n",
      " 7   DIS      506 non-null    float64\n",
      " 8   RAD      506 non-null    float64\n",
      " 9   TAX      506 non-null    float64\n",
      " 10  PTRATIO  506 non-null    float64\n",
      " 11  B        506 non-null    float64\n",
      " 12  LSTAT    506 non-null    float64\n",
      " 13  MEDV     506 non-null    float64\n",
      "dtypes: float64(14)\n",
      "memory usage: 55.5 KB\n"
     ]
    }
   ],
   "source": [
    "df.info()"
   ]
  },
  {
   "cell_type": "markdown",
   "metadata": {},
   "source": [
    "### 2.  Matriz de correlação e análise de variáveis explicativas"
   ]
  },
  {
   "cell_type": "code",
   "execution_count": 23,
   "metadata": {},
   "outputs": [
    {
     "data": {
      "text/html": [
       "<div>\n",
       "<style scoped>\n",
       "    .dataframe tbody tr th:only-of-type {\n",
       "        vertical-align: middle;\n",
       "    }\n",
       "\n",
       "    .dataframe tbody tr th {\n",
       "        vertical-align: top;\n",
       "    }\n",
       "\n",
       "    .dataframe thead th {\n",
       "        text-align: right;\n",
       "    }\n",
       "</style>\n",
       "<table border=\"1\" class=\"dataframe\">\n",
       "  <thead>\n",
       "    <tr style=\"text-align: right;\">\n",
       "      <th></th>\n",
       "      <th>CRIM</th>\n",
       "      <th>ZN</th>\n",
       "      <th>INDUS</th>\n",
       "      <th>CHAS</th>\n",
       "      <th>NOX</th>\n",
       "      <th>RM</th>\n",
       "      <th>AGE</th>\n",
       "      <th>DIS</th>\n",
       "      <th>RAD</th>\n",
       "      <th>TAX</th>\n",
       "      <th>PTRATIO</th>\n",
       "      <th>B</th>\n",
       "      <th>LSTAT</th>\n",
       "      <th>MEDV</th>\n",
       "    </tr>\n",
       "  </thead>\n",
       "  <tbody>\n",
       "    <tr>\n",
       "      <th>MEDV</th>\n",
       "      <td>-0.388305</td>\n",
       "      <td>0.360445</td>\n",
       "      <td>-0.483725</td>\n",
       "      <td>0.17526</td>\n",
       "      <td>-0.427321</td>\n",
       "      <td>0.69536</td>\n",
       "      <td>-0.376955</td>\n",
       "      <td>0.249929</td>\n",
       "      <td>-0.381626</td>\n",
       "      <td>-0.468536</td>\n",
       "      <td>-0.507787</td>\n",
       "      <td>0.333461</td>\n",
       "      <td>-0.737663</td>\n",
       "      <td>1.0</td>\n",
       "    </tr>\n",
       "  </tbody>\n",
       "</table>\n",
       "</div>"
      ],
      "text/plain": [
       "          CRIM        ZN     INDUS     CHAS       NOX       RM       AGE  \\\n",
       "MEDV -0.388305  0.360445 -0.483725  0.17526 -0.427321  0.69536 -0.376955   \n",
       "\n",
       "           DIS       RAD       TAX   PTRATIO         B     LSTAT  MEDV  \n",
       "MEDV  0.249929 -0.381626 -0.468536 -0.507787  0.333461 -0.737663   1.0  "
      ]
     },
     "execution_count": 23,
     "metadata": {},
     "output_type": "execute_result"
    }
   ],
   "source": [
    "df.corr().tail(1)"
   ]
  },
  {
   "cell_type": "code",
   "execution_count": 24,
   "metadata": {},
   "outputs": [
    {
     "data": {
      "text/plain": [
       "<seaborn.matrix.ClusterGrid at 0x1f01846e990>"
      ]
     },
     "execution_count": 24,
     "metadata": {},
     "output_type": "execute_result"
    },
    {
     "data": {
      "image/png": "[encoded data removed]",
      "text/plain": [
       "<Figure size 700x700 with 4 Axes>"
      ]
     },
     "metadata": {},
     "output_type": "display_data"
    }
   ],
   "source": [
    "cmap = sns.diverging_palette(h_neg=125, h_pos=350, as_cmap=True, sep = 60, center = 'light')\n",
    "\n",
    "sns.clustermap(df.corr(), figsize=(7, 7), center = 0, cmap=cmap)"
   ]
  },
  {
   "cell_type": "markdown",
   "metadata": {},
   "source": [
    "### 3. Separação Treino e Teste"
   ]
  },
  {
   "cell_type": "code",
   "execution_count": 56,
   "metadata": {},
   "outputs": [],
   "source": [
    "X = df.drop(columns='MEDV', axis=1)\n",
    "y = df['MEDV']"
   ]
  },
  {
   "cell_type": "code",
   "execution_count": 57,
   "metadata": {},
   "outputs": [
    {
     "data": {
      "text/html": [
       "<div>\n",
       "<style scoped>\n",
       "    .dataframe tbody tr th:only-of-type {\n",
       "        vertical-align: middle;\n",
       "    }\n",
       "\n",
       "    .dataframe tbody tr th {\n",
       "        vertical-align: top;\n",
       "    }\n",
       "\n",
       "    .dataframe thead th {\n",
       "        text-align: right;\n",
       "    }\n",
       "</style>\n",
       "<table border=\"1\" class=\"dataframe\">\n",
       "  <thead>\n",
       "    <tr style=\"text-align: right;\">\n",
       "      <th></th>\n",
       "      <th>CRIM</th>\n",
       "      <th>ZN</th>\n",
       "      <th>INDUS</th>\n",
       "      <th>CHAS</th>\n",
       "      <th>NOX</th>\n",
       "      <th>RM</th>\n",
       "      <th>AGE</th>\n",
       "      <th>DIS</th>\n",
       "      <th>RAD</th>\n",
       "      <th>TAX</th>\n",
       "      <th>PTRATIO</th>\n",
       "      <th>B</th>\n",
       "      <th>LSTAT</th>\n",
       "    </tr>\n",
       "  </thead>\n",
       "  <tbody>\n",
       "    <tr>\n",
       "      <th>0</th>\n",
       "      <td>0.00632</td>\n",
       "      <td>18.0</td>\n",
       "      <td>2.31</td>\n",
       "      <td>0.0</td>\n",
       "      <td>0.538</td>\n",
       "      <td>6.575</td>\n",
       "      <td>65.2</td>\n",
       "      <td>4.0900</td>\n",
       "      <td>1.0</td>\n",
       "      <td>296.0</td>\n",
       "      <td>15.3</td>\n",
       "      <td>396.90</td>\n",
       "      <td>4.98</td>\n",
       "    </tr>\n",
       "    <tr>\n",
       "      <th>1</th>\n",
       "      <td>0.02731</td>\n",
       "      <td>0.0</td>\n",
       "      <td>7.07</td>\n",
       "      <td>0.0</td>\n",
       "      <td>0.469</td>\n",
       "      <td>6.421</td>\n",
       "      <td>78.9</td>\n",
       "      <td>4.9671</td>\n",
       "      <td>2.0</td>\n",
       "      <td>242.0</td>\n",
       "      <td>17.8</td>\n",
       "      <td>396.90</td>\n",
       "      <td>9.14</td>\n",
       "    </tr>\n",
       "    <tr>\n",
       "      <th>2</th>\n",
       "      <td>0.02729</td>\n",
       "      <td>0.0</td>\n",
       "      <td>7.07</td>\n",
       "      <td>0.0</td>\n",
       "      <td>0.469</td>\n",
       "      <td>7.185</td>\n",
       "      <td>61.1</td>\n",
       "      <td>4.9671</td>\n",
       "      <td>2.0</td>\n",
       "      <td>242.0</td>\n",
       "      <td>17.8</td>\n",
       "      <td>392.83</td>\n",
       "      <td>4.03</td>\n",
       "    </tr>\n",
       "    <tr>\n",
       "      <th>3</th>\n",
       "      <td>0.03237</td>\n",
       "      <td>0.0</td>\n",
       "      <td>2.18</td>\n",
       "      <td>0.0</td>\n",
       "      <td>0.458</td>\n",
       "      <td>6.998</td>\n",
       "      <td>45.8</td>\n",
       "      <td>6.0622</td>\n",
       "      <td>3.0</td>\n",
       "      <td>222.0</td>\n",
       "      <td>18.7</td>\n",
       "      <td>394.63</td>\n",
       "      <td>2.94</td>\n",
       "    </tr>\n",
       "    <tr>\n",
       "      <th>4</th>\n",
       "      <td>0.06905</td>\n",
       "      <td>0.0</td>\n",
       "      <td>2.18</td>\n",
       "      <td>0.0</td>\n",
       "      <td>0.458</td>\n",
       "      <td>7.147</td>\n",
       "      <td>54.2</td>\n",
       "      <td>6.0622</td>\n",
       "      <td>3.0</td>\n",
       "      <td>222.0</td>\n",
       "      <td>18.7</td>\n",
       "      <td>396.90</td>\n",
       "      <td>5.33</td>\n",
       "    </tr>\n",
       "  </tbody>\n",
       "</table>\n",
       "</div>"
      ],
      "text/plain": [
       "      CRIM    ZN  INDUS  CHAS    NOX     RM   AGE     DIS  RAD    TAX  \\\n",
       "0  0.00632  18.0   2.31   0.0  0.538  6.575  65.2  4.0900  1.0  296.0   \n",
       "1  0.02731   0.0   7.07   0.0  0.469  6.421  78.9  4.9671  2.0  242.0   \n",
       "2  0.02729   0.0   7.07   0.0  0.469  7.185  61.1  4.9671  2.0  242.0   \n",
       "3  0.03237   0.0   2.18   0.0  0.458  6.998  45.8  6.0622  3.0  222.0   \n",
       "4  0.06905   0.0   2.18   0.0  0.458  7.147  54.2  6.0622  3.0  222.0   \n",
       "\n",
       "   PTRATIO       B  LSTAT  \n",
       "0     15.3  396.90   4.98  \n",
       "1     17.8  396.90   9.14  \n",
       "2     17.8  392.83   4.03  \n",
       "3     18.7  394.63   2.94  \n",
       "4     18.7  396.90   5.33  "
      ]
     },
     "execution_count": 57,
     "metadata": {},
     "output_type": "execute_result"
    }
   ],
   "source": [
    "X.head()"
   ]
  },
  {
   "cell_type": "code",
   "execution_count": 58,
   "metadata": {},
   "outputs": [
    {
     "data": {
      "text/plain": [
       "0    24.0\n",
       "1    21.6\n",
       "2    34.7\n",
       "3    33.4\n",
       "4    36.2\n",
       "Name: MEDV, dtype: float64"
      ]
     },
     "execution_count": 58,
     "metadata": {},
     "output_type": "execute_result"
    }
   ],
   "source": [
    "y.head()"
   ]
  },
  {
   "cell_type": "code",
   "execution_count": 59,
   "metadata": {},
   "outputs": [],
   "source": [
    "X_train, X_test, y_train, y_test = train_test_split(X, y, test_size=0.3, random_state=2402)"
   ]
  },
  {
   "cell_type": "markdown",
   "metadata": {},
   "source": [
    "### 4. Coeficiente de Determinação por Profundidade e Nº mín:"
   ]
  },
  {
   "cell_type": "code",
   "execution_count": 60,
   "metadata": {},
   "outputs": [
    {
     "data": {
      "text/html": [
       "<div>\n",
       "<style scoped>\n",
       "    .dataframe tbody tr th:only-of-type {\n",
       "        vertical-align: middle;\n",
       "    }\n",
       "\n",
       "    .dataframe tbody tr th {\n",
       "        vertical-align: top;\n",
       "    }\n",
       "\n",
       "    .dataframe thead th {\n",
       "        text-align: right;\n",
       "    }\n",
       "</style>\n",
       "<table border=\"1\" class=\"dataframe\">\n",
       "  <thead>\n",
       "    <tr style=\"text-align: right;\">\n",
       "      <th>n_minimo</th>\n",
       "      <th>1</th>\n",
       "      <th>2</th>\n",
       "      <th>3</th>\n",
       "      <th>4</th>\n",
       "      <th>5</th>\n",
       "      <th>6</th>\n",
       "      <th>7</th>\n",
       "      <th>8</th>\n",
       "      <th>9</th>\n",
       "      <th>10</th>\n",
       "      <th>11</th>\n",
       "      <th>12</th>\n",
       "      <th>13</th>\n",
       "      <th>14</th>\n",
       "      <th>15</th>\n",
       "      <th>16</th>\n",
       "      <th>17</th>\n",
       "      <th>18</th>\n",
       "      <th>19</th>\n",
       "      <th>20</th>\n",
       "    </tr>\n",
       "    <tr>\n",
       "      <th>profundidade</th>\n",
       "      <th></th>\n",
       "      <th></th>\n",
       "      <th></th>\n",
       "      <th></th>\n",
       "      <th></th>\n",
       "      <th></th>\n",
       "      <th></th>\n",
       "      <th></th>\n",
       "      <th></th>\n",
       "      <th></th>\n",
       "      <th></th>\n",
       "      <th></th>\n",
       "      <th></th>\n",
       "      <th></th>\n",
       "      <th></th>\n",
       "      <th></th>\n",
       "      <th></th>\n",
       "      <th></th>\n",
       "      <th></th>\n",
       "      <th></th>\n",
       "    </tr>\n",
       "  </thead>\n",
       "  <tbody>\n",
       "    <tr>\n",
       "      <th>1</th>\n",
       "      <td>0.455297</td>\n",
       "      <td>0.455297</td>\n",
       "      <td>0.455297</td>\n",
       "      <td>0.455297</td>\n",
       "      <td>0.455297</td>\n",
       "      <td>0.455297</td>\n",
       "      <td>0.455297</td>\n",
       "      <td>0.455297</td>\n",
       "      <td>0.455297</td>\n",
       "      <td>0.455297</td>\n",
       "      <td>0.455297</td>\n",
       "      <td>0.455297</td>\n",
       "      <td>0.455297</td>\n",
       "      <td>0.455297</td>\n",
       "      <td>0.455297</td>\n",
       "      <td>0.455297</td>\n",
       "      <td>0.455297</td>\n",
       "      <td>0.455297</td>\n",
       "      <td>0.455297</td>\n",
       "      <td>0.455297</td>\n",
       "    </tr>\n",
       "    <tr>\n",
       "      <th>2</th>\n",
       "      <td>0.739103</td>\n",
       "      <td>0.739103</td>\n",
       "      <td>0.739103</td>\n",
       "      <td>0.739103</td>\n",
       "      <td>0.739103</td>\n",
       "      <td>0.739103</td>\n",
       "      <td>0.739103</td>\n",
       "      <td>0.739103</td>\n",
       "      <td>0.739103</td>\n",
       "      <td>0.739103</td>\n",
       "      <td>0.739103</td>\n",
       "      <td>0.739103</td>\n",
       "      <td>0.739103</td>\n",
       "      <td>0.739103</td>\n",
       "      <td>0.739103</td>\n",
       "      <td>0.739103</td>\n",
       "      <td>0.739103</td>\n",
       "      <td>0.739103</td>\n",
       "      <td>0.739103</td>\n",
       "      <td>0.739103</td>\n",
       "    </tr>\n",
       "    <tr>\n",
       "      <th>3</th>\n",
       "      <td>0.759831</td>\n",
       "      <td>0.789034</td>\n",
       "      <td>0.782656</td>\n",
       "      <td>0.782656</td>\n",
       "      <td>0.766544</td>\n",
       "      <td>0.778404</td>\n",
       "      <td>0.780908</td>\n",
       "      <td>0.780908</td>\n",
       "      <td>0.780908</td>\n",
       "      <td>0.785156</td>\n",
       "      <td>0.777916</td>\n",
       "      <td>0.769576</td>\n",
       "      <td>0.769576</td>\n",
       "      <td>0.769576</td>\n",
       "      <td>0.769576</td>\n",
       "      <td>0.769576</td>\n",
       "      <td>0.769576</td>\n",
       "      <td>0.769576</td>\n",
       "      <td>0.769576</td>\n",
       "      <td>0.769576</td>\n",
       "    </tr>\n",
       "    <tr>\n",
       "      <th>4</th>\n",
       "      <td>0.822700</td>\n",
       "      <td>0.816000</td>\n",
       "      <td>0.813099</td>\n",
       "      <td>0.819861</td>\n",
       "      <td>0.805207</td>\n",
       "      <td>0.792486</td>\n",
       "      <td>0.829682</td>\n",
       "      <td>0.817491</td>\n",
       "      <td>0.817491</td>\n",
       "      <td>0.821739</td>\n",
       "      <td>0.814499</td>\n",
       "      <td>0.806160</td>\n",
       "      <td>0.806160</td>\n",
       "      <td>0.806160</td>\n",
       "      <td>0.806160</td>\n",
       "      <td>0.806160</td>\n",
       "      <td>0.806160</td>\n",
       "      <td>0.806160</td>\n",
       "      <td>0.806160</td>\n",
       "      <td>0.806160</td>\n",
       "    </tr>\n",
       "    <tr>\n",
       "      <th>5</th>\n",
       "      <td>0.766276</td>\n",
       "      <td>0.809591</td>\n",
       "      <td>0.825018</td>\n",
       "      <td>0.831532</td>\n",
       "      <td>0.796828</td>\n",
       "      <td>0.780368</td>\n",
       "      <td>0.822067</td>\n",
       "      <td>0.832965</td>\n",
       "      <td>0.837109</td>\n",
       "      <td>0.843393</td>\n",
       "      <td>0.828415</td>\n",
       "      <td>0.829028</td>\n",
       "      <td>0.822436</td>\n",
       "      <td>0.810596</td>\n",
       "      <td>0.809095</td>\n",
       "      <td>0.806585</td>\n",
       "      <td>0.805960</td>\n",
       "      <td>0.802828</td>\n",
       "      <td>0.803549</td>\n",
       "      <td>0.813682</td>\n",
       "    </tr>\n",
       "    <tr>\n",
       "      <th>6</th>\n",
       "      <td>0.771676</td>\n",
       "      <td>0.823134</td>\n",
       "      <td>0.824147</td>\n",
       "      <td>0.831773</td>\n",
       "      <td>0.802942</td>\n",
       "      <td>0.787706</td>\n",
       "      <td>0.833557</td>\n",
       "      <td>0.839473</td>\n",
       "      <td>0.841212</td>\n",
       "      <td>0.842884</td>\n",
       "      <td>0.826063</td>\n",
       "      <td>0.826391</td>\n",
       "      <td>0.820047</td>\n",
       "      <td>0.811168</td>\n",
       "      <td>0.811226</td>\n",
       "      <td>0.808716</td>\n",
       "      <td>0.804625</td>\n",
       "      <td>0.800435</td>\n",
       "      <td>0.802338</td>\n",
       "      <td>0.810050</td>\n",
       "    </tr>\n",
       "    <tr>\n",
       "      <th>7</th>\n",
       "      <td>0.835372</td>\n",
       "      <td>0.813705</td>\n",
       "      <td>0.815834</td>\n",
       "      <td>0.828442</td>\n",
       "      <td>0.796212</td>\n",
       "      <td>0.787968</td>\n",
       "      <td>0.822587</td>\n",
       "      <td>0.831644</td>\n",
       "      <td>0.843666</td>\n",
       "      <td>0.842588</td>\n",
       "      <td>0.827430</td>\n",
       "      <td>0.827491</td>\n",
       "      <td>0.821074</td>\n",
       "      <td>0.810037</td>\n",
       "      <td>0.808176</td>\n",
       "      <td>0.806848</td>\n",
       "      <td>0.804625</td>\n",
       "      <td>0.800435</td>\n",
       "      <td>0.802338</td>\n",
       "      <td>0.810050</td>\n",
       "    </tr>\n",
       "    <tr>\n",
       "      <th>8</th>\n",
       "      <td>0.751452</td>\n",
       "      <td>0.807382</td>\n",
       "      <td>0.810525</td>\n",
       "      <td>0.829234</td>\n",
       "      <td>0.792701</td>\n",
       "      <td>0.784150</td>\n",
       "      <td>0.820680</td>\n",
       "      <td>0.829409</td>\n",
       "      <td>0.844890</td>\n",
       "      <td>0.841816</td>\n",
       "      <td>0.827799</td>\n",
       "      <td>0.827491</td>\n",
       "      <td>0.821074</td>\n",
       "      <td>0.810037</td>\n",
       "      <td>0.808176</td>\n",
       "      <td>0.806848</td>\n",
       "      <td>0.804625</td>\n",
       "      <td>0.800435</td>\n",
       "      <td>0.802338</td>\n",
       "      <td>0.810050</td>\n",
       "    </tr>\n",
       "    <tr>\n",
       "      <th>9</th>\n",
       "      <td>0.767347</td>\n",
       "      <td>0.810665</td>\n",
       "      <td>0.811145</td>\n",
       "      <td>0.826080</td>\n",
       "      <td>0.790704</td>\n",
       "      <td>0.787718</td>\n",
       "      <td>0.817121</td>\n",
       "      <td>0.826851</td>\n",
       "      <td>0.845091</td>\n",
       "      <td>0.841816</td>\n",
       "      <td>0.827799</td>\n",
       "      <td>0.827491</td>\n",
       "      <td>0.821074</td>\n",
       "      <td>0.810037</td>\n",
       "      <td>0.808176</td>\n",
       "      <td>0.806848</td>\n",
       "      <td>0.804625</td>\n",
       "      <td>0.800435</td>\n",
       "      <td>0.802338</td>\n",
       "      <td>0.810050</td>\n",
       "    </tr>\n",
       "    <tr>\n",
       "      <th>10</th>\n",
       "      <td>0.778094</td>\n",
       "      <td>0.807873</td>\n",
       "      <td>0.809355</td>\n",
       "      <td>0.821960</td>\n",
       "      <td>0.792802</td>\n",
       "      <td>0.787935</td>\n",
       "      <td>0.814958</td>\n",
       "      <td>0.829087</td>\n",
       "      <td>0.845091</td>\n",
       "      <td>0.841816</td>\n",
       "      <td>0.827799</td>\n",
       "      <td>0.827491</td>\n",
       "      <td>0.821074</td>\n",
       "      <td>0.810037</td>\n",
       "      <td>0.808176</td>\n",
       "      <td>0.806848</td>\n",
       "      <td>0.804625</td>\n",
       "      <td>0.800435</td>\n",
       "      <td>0.802338</td>\n",
       "      <td>0.810050</td>\n",
       "    </tr>\n",
       "  </tbody>\n",
       "</table>\n",
       "</div>"
      ],
      "text/plain": [
       "n_minimo            1         2         3         4         5         6   \\\n",
       "profundidade                                                               \n",
       "1             0.455297  0.455297  0.455297  0.455297  0.455297  0.455297   \n",
       "2             0.739103  0.739103  0.739103  0.739103  0.739103  0.739103   \n",
       "3             0.759831  0.789034  0.782656  0.782656  0.766544  0.778404   \n",
       "4             0.822700  0.816000  0.813099  0.819861  0.805207  0.792486   \n",
       "5             0.766276  0.809591  0.825018  0.831532  0.796828  0.780368   \n",
       "6             0.771676  0.823134  0.824147  0.831773  0.802942  0.787706   \n",
       "7             0.835372  0.813705  0.815834  0.828442  0.796212  0.787968   \n",
       "8             0.751452  0.807382  0.810525  0.829234  0.792701  0.784150   \n",
       "9             0.767347  0.810665  0.811145  0.826080  0.790704  0.787718   \n",
       "10            0.778094  0.807873  0.809355  0.821960  0.792802  0.787935   \n",
       "\n",
       "n_minimo            7         8         9         10        11        12  \\\n",
       "profundidade                                                               \n",
       "1             0.455297  0.455297  0.455297  0.455297  0.455297  0.455297   \n",
       "2             0.739103  0.739103  0.739103  0.739103  0.739103  0.739103   \n",
       "3             0.780908  0.780908  0.780908  0.785156  0.777916  0.769576   \n",
       "4             0.829682  0.817491  0.817491  0.821739  0.814499  0.806160   \n",
       "5             0.822067  0.832965  0.837109  0.843393  0.828415  0.829028   \n",
       "6             0.833557  0.839473  0.841212  0.842884  0.826063  0.826391   \n",
       "7             0.822587  0.831644  0.843666  0.842588  0.827430  0.827491   \n",
       "8             0.820680  0.829409  0.844890  0.841816  0.827799  0.827491   \n",
       "9             0.817121  0.826851  0.845091  0.841816  0.827799  0.827491   \n",
       "10            0.814958  0.829087  0.845091  0.841816  0.827799  0.827491   \n",
       "\n",
       "n_minimo            13        14        15        16        17        18  \\\n",
       "profundidade                                                               \n",
       "1             0.455297  0.455297  0.455297  0.455297  0.455297  0.455297   \n",
       "2             0.739103  0.739103  0.739103  0.739103  0.739103  0.739103   \n",
       "3             0.769576  0.769576  0.769576  0.769576  0.769576  0.769576   \n",
       "4             0.806160  0.806160  0.806160  0.806160  0.806160  0.806160   \n",
       "5             0.822436  0.810596  0.809095  0.806585  0.805960  0.802828   \n",
       "6             0.820047  0.811168  0.811226  0.808716  0.804625  0.800435   \n",
       "7             0.821074  0.810037  0.808176  0.806848  0.804625  0.800435   \n",
       "8             0.821074  0.810037  0.808176  0.806848  0.804625  0.800435   \n",
       "9             0.821074  0.810037  0.808176  0.806848  0.804625  0.800435   \n",
       "10            0.821074  0.810037  0.808176  0.806848  0.804625  0.800435   \n",
       "\n",
       "n_minimo            19        20  \n",
       "profundidade                      \n",
       "1             0.455297  0.455297  \n",
       "2             0.739103  0.739103  \n",
       "3             0.769576  0.769576  \n",
       "4             0.806160  0.806160  \n",
       "5             0.803549  0.813682  \n",
       "6             0.802338  0.810050  \n",
       "7             0.802338  0.810050  \n",
       "8             0.802338  0.810050  \n",
       "9             0.802338  0.810050  \n",
       "10            0.802338  0.810050  "
      ]
     },
     "execution_count": 60,
     "metadata": {},
     "output_type": "execute_result"
    },
    {
     "data": {
      "image/png": "[encoded data removed]",
      "text/plain": [
       "<Figure size 640x480 with 2 Axes>"
      ]
     },
     "metadata": {},
     "output_type": "display_data"
    }
   ],
   "source": [
    "mses = []\n",
    "ind_i = []\n",
    "ind_j = []\n",
    "\n",
    "for i in range(1, 11):\n",
    "    for j in range(1, 21):\n",
    "        regr = DecisionTreeRegressor(max_depth=i, min_samples_leaf=j, random_state=2402)\n",
    "        regr.fit(X_train, y_train)\n",
    "        mse = regr.score(X_test, y_test)\n",
    "        mses.append(mse)\n",
    "        ind_i.append(i)\n",
    "        ind_j.append(j)\n",
    "        \n",
    "df_mse = pd.DataFrame({'mses':mses, 'profundidade':ind_i, 'n_minimo':ind_j})\n",
    "\n",
    "sns.heatmap(df_mse.pivot(index='profundidade', columns='n_minimo', values='mses'))\n",
    "df_mse.pivot(index='profundidade', columns='n_minimo', values='mses')"
   ]
  },
  {
   "cell_type": "markdown",
   "metadata": {},
   "source": [
    "* `Maior r-quadrado: max_deph = 7 e min_samples_leaf = 10`"
   ]
  },
  {
   "cell_type": "markdown",
   "metadata": {},
   "source": [
    "### 5. Analisando MSE/Profundidade"
   ]
  },
  {
   "cell_type": "code",
   "execution_count": 110,
   "metadata": {},
   "outputs": [
    {
     "data": {
      "text/html": [
       "<style>#sk-container-id-15 {color: black;}#sk-container-id-15 pre{padding: 0;}#sk-container-id-15 div.sk-toggleable {background-color: white;}#sk-container-id-15 label.sk-toggleable__label {cursor: pointer;display: block;width: 100%;margin-bottom: 0;padding: 0.3em;box-sizing: border-box;text-align: center;}#sk-container-id-15 label.sk-toggleable__label-arrow:before {content: \"▸\";float: left;margin-right: 0.25em;color: #696969;}#sk-container-id-15 label.sk-toggleable__label-arrow:hover:before {color: black;}#sk-container-id-15 div.sk-estimator:hover label.sk-toggleable__label-arrow:before {color: black;}#sk-container-id-15 div.sk-toggleable__content {max-height: 0;max-width: 0;overflow: hidden;text-align: left;background-color: #f0f8ff;}#sk-container-id-15 div.sk-toggleable__content pre {margin: 0.2em;color: black;border-radius: 0.25em;background-color: #f0f8ff;}#sk-container-id-15 input.sk-toggleable__control:checked~div.sk-toggleable__content {max-height: 200px;max-width: 100%;overflow: auto;}#sk-container-id-15 input.sk-toggleable__control:checked~label.sk-toggleable__label-arrow:before {content: \"▾\";}#sk-container-id-15 div.sk-estimator input.sk-toggleable__control:checked~label.sk-toggleable__label {background-color: #d4ebff;}#sk-container-id-15 div.sk-label input.sk-toggleable__control:checked~label.sk-toggleable__label {background-color: #d4ebff;}#sk-container-id-15 input.sk-hidden--visually {border: 0;clip: rect(1px 1px 1px 1px);clip: rect(1px, 1px, 1px, 1px);height: 1px;margin: -1px;overflow: hidden;padding: 0;position: absolute;width: 1px;}#sk-container-id-15 div.sk-estimator {font-family: monospace;background-color: #f0f8ff;border: 1px dotted black;border-radius: 0.25em;box-sizing: border-box;margin-bottom: 0.5em;}#sk-container-id-15 div.sk-estimator:hover {background-color: #d4ebff;}#sk-container-id-15 div.sk-parallel-item::after {content: \"\";width: 100%;border-bottom: 1px solid gray;flex-grow: 1;}#sk-container-id-15 div.sk-label:hover label.sk-toggleable__label {background-color: #d4ebff;}#sk-container-id-15 div.sk-serial::before {content: \"\";position: absolute;border-left: 1px solid gray;box-sizing: border-box;top: 0;bottom: 0;left: 50%;z-index: 0;}#sk-container-id-15 div.sk-serial {display: flex;flex-direction: column;align-items: center;background-color: white;padding-right: 0.2em;padding-left: 0.2em;position: relative;}#sk-container-id-15 div.sk-item {position: relative;z-index: 1;}#sk-container-id-15 div.sk-parallel {display: flex;align-items: stretch;justify-content: center;background-color: white;position: relative;}#sk-container-id-15 div.sk-item::before, #sk-container-id-15 div.sk-parallel-item::before {content: \"\";position: absolute;border-left: 1px solid gray;box-sizing: border-box;top: 0;bottom: 0;left: 50%;z-index: -1;}#sk-container-id-15 div.sk-parallel-item {display: flex;flex-direction: column;z-index: 1;position: relative;background-color: white;}#sk-container-id-15 div.sk-parallel-item:first-child::after {align-self: flex-end;width: 50%;}#sk-container-id-15 div.sk-parallel-item:last-child::after {align-self: flex-start;width: 50%;}#sk-container-id-15 div.sk-parallel-item:only-child::after {width: 0;}#sk-container-id-15 div.sk-dashed-wrapped {border: 1px dashed gray;margin: 0 0.4em 0.5em 0.4em;box-sizing: border-box;padding-bottom: 0.4em;background-color: white;}#sk-container-id-15 div.sk-label label {font-family: monospace;font-weight: bold;display: inline-block;line-height: 1.2em;}#sk-container-id-15 div.sk-label-container {text-align: center;}#sk-container-id-15 div.sk-container {/* jupyter's `normalize.less` sets `[hidden] { display: none; }` but bootstrap.min.css set `[hidden] { display: none !important; }` so we also need the `!important` here to be able to override the default hidden behavior on the sphinx rendered scikit-learn.org. See: https://github.com/scikit-learn/scikit-learn/issues/21755 */display: inline-block !important;position: relative;}#sk-container-id-15 div.sk-text-repr-fallback {display: none;}</style><div id=\"sk-container-id-15\" class=\"sk-top-container\"><div class=\"sk-text-repr-fallback\"><pre>DecisionTreeRegressor(max_depth=8, random_state=2402)</pre><b>In a Jupyter environment, please rerun this cell to show the HTML representation or trust the notebook. <br />On GitHub, the HTML representation is unable to render, please try loading this page with nbviewer.org.</b></div><div class=\"sk-container\" hidden><div class=\"sk-item\"><div class=\"sk-estimator sk-toggleable\"><input class=\"sk-toggleable__control sk-hidden--visually\" id=\"sk-estimator-id-15\" type=\"checkbox\" checked><label for=\"sk-estimator-id-15\" class=\"sk-toggleable__label sk-toggleable__label-arrow\">DecisionTreeRegressor</label><div class=\"sk-toggleable__content\"><pre>DecisionTreeRegressor(max_depth=8, random_state=2402)</pre></div></div></div></div></div>"
      ],
      "text/plain": [
       "DecisionTreeRegressor(max_depth=8, random_state=2402)"
      ]
     },
     "execution_count": 110,
     "metadata": {},
     "output_type": "execute_result"
    }
   ],
   "source": [
    "regr1 = DecisionTreeRegressor(max_depth=8, random_state=2402)\n",
    "regr1.fit(X_train, y_train)"
   ]
  },
  {
   "cell_type": "code",
   "execution_count": 111,
   "metadata": {},
   "outputs": [
    {
     "data": {
      "text/html": [
       "<style>#sk-container-id-16 {color: black;}#sk-container-id-16 pre{padding: 0;}#sk-container-id-16 div.sk-toggleable {background-color: white;}#sk-container-id-16 label.sk-toggleable__label {cursor: pointer;display: block;width: 100%;margin-bottom: 0;padding: 0.3em;box-sizing: border-box;text-align: center;}#sk-container-id-16 label.sk-toggleable__label-arrow:before {content: \"▸\";float: left;margin-right: 0.25em;color: #696969;}#sk-container-id-16 label.sk-toggleable__label-arrow:hover:before {color: black;}#sk-container-id-16 div.sk-estimator:hover label.sk-toggleable__label-arrow:before {color: black;}#sk-container-id-16 div.sk-toggleable__content {max-height: 0;max-width: 0;overflow: hidden;text-align: left;background-color: #f0f8ff;}#sk-container-id-16 div.sk-toggleable__content pre {margin: 0.2em;color: black;border-radius: 0.25em;background-color: #f0f8ff;}#sk-container-id-16 input.sk-toggleable__control:checked~div.sk-toggleable__content {max-height: 200px;max-width: 100%;overflow: auto;}#sk-container-id-16 input.sk-toggleable__control:checked~label.sk-toggleable__label-arrow:before {content: \"▾\";}#sk-container-id-16 div.sk-estimator input.sk-toggleable__control:checked~label.sk-toggleable__label {background-color: #d4ebff;}#sk-container-id-16 div.sk-label input.sk-toggleable__control:checked~label.sk-toggleable__label {background-color: #d4ebff;}#sk-container-id-16 input.sk-hidden--visually {border: 0;clip: rect(1px 1px 1px 1px);clip: rect(1px, 1px, 1px, 1px);height: 1px;margin: -1px;overflow: hidden;padding: 0;position: absolute;width: 1px;}#sk-container-id-16 div.sk-estimator {font-family: monospace;background-color: #f0f8ff;border: 1px dotted black;border-radius: 0.25em;box-sizing: border-box;margin-bottom: 0.5em;}#sk-container-id-16 div.sk-estimator:hover {background-color: #d4ebff;}#sk-container-id-16 div.sk-parallel-item::after {content: \"\";width: 100%;border-bottom: 1px solid gray;flex-grow: 1;}#sk-container-id-16 div.sk-label:hover label.sk-toggleable__label {background-color: #d4ebff;}#sk-container-id-16 div.sk-serial::before {content: \"\";position: absolute;border-left: 1px solid gray;box-sizing: border-box;top: 0;bottom: 0;left: 50%;z-index: 0;}#sk-container-id-16 div.sk-serial {display: flex;flex-direction: column;align-items: center;background-color: white;padding-right: 0.2em;padding-left: 0.2em;position: relative;}#sk-container-id-16 div.sk-item {position: relative;z-index: 1;}#sk-container-id-16 div.sk-parallel {display: flex;align-items: stretch;justify-content: center;background-color: white;position: relative;}#sk-container-id-16 div.sk-item::before, #sk-container-id-16 div.sk-parallel-item::before {content: \"\";position: absolute;border-left: 1px solid gray;box-sizing: border-box;top: 0;bottom: 0;left: 50%;z-index: -1;}#sk-container-id-16 div.sk-parallel-item {display: flex;flex-direction: column;z-index: 1;position: relative;background-color: white;}#sk-container-id-16 div.sk-parallel-item:first-child::after {align-self: flex-end;width: 50%;}#sk-container-id-16 div.sk-parallel-item:last-child::after {align-self: flex-start;width: 50%;}#sk-container-id-16 div.sk-parallel-item:only-child::after {width: 0;}#sk-container-id-16 div.sk-dashed-wrapped {border: 1px dashed gray;margin: 0 0.4em 0.5em 0.4em;box-sizing: border-box;padding-bottom: 0.4em;background-color: white;}#sk-container-id-16 div.sk-label label {font-family: monospace;font-weight: bold;display: inline-block;line-height: 1.2em;}#sk-container-id-16 div.sk-label-container {text-align: center;}#sk-container-id-16 div.sk-container {/* jupyter's `normalize.less` sets `[hidden] { display: none; }` but bootstrap.min.css set `[hidden] { display: none !important; }` so we also need the `!important` here to be able to override the default hidden behavior on the sphinx rendered scikit-learn.org. See: https://github.com/scikit-learn/scikit-learn/issues/21755 */display: inline-block !important;position: relative;}#sk-container-id-16 div.sk-text-repr-fallback {display: none;}</style><div id=\"sk-container-id-16\" class=\"sk-top-container\"><div class=\"sk-text-repr-fallback\"><pre>DecisionTreeRegressor(max_depth=7, random_state=2402)</pre><b>In a Jupyter environment, please rerun this cell to show the HTML representation or trust the notebook. <br />On GitHub, the HTML representation is unable to render, please try loading this page with nbviewer.org.</b></div><div class=\"sk-container\" hidden><div class=\"sk-item\"><div class=\"sk-estimator sk-toggleable\"><input class=\"sk-toggleable__control sk-hidden--visually\" id=\"sk-estimator-id-16\" type=\"checkbox\" checked><label for=\"sk-estimator-id-16\" class=\"sk-toggleable__label sk-toggleable__label-arrow\">DecisionTreeRegressor</label><div class=\"sk-toggleable__content\"><pre>DecisionTreeRegressor(max_depth=7, random_state=2402)</pre></div></div></div></div></div>"
      ],
      "text/plain": [
       "DecisionTreeRegressor(max_depth=7, random_state=2402)"
      ]
     },
     "execution_count": 111,
     "metadata": {},
     "output_type": "execute_result"
    }
   ],
   "source": [
    "regr2 = DecisionTreeRegressor(max_depth=7, random_state=2402)\n",
    "regr2.fit(X_train, y_train)"
   ]
  },
  {
   "cell_type": "code",
   "execution_count": 112,
   "metadata": {},
   "outputs": [
    {
     "data": {
      "text/html": [
       "<style>#sk-container-id-17 {color: black;}#sk-container-id-17 pre{padding: 0;}#sk-container-id-17 div.sk-toggleable {background-color: white;}#sk-container-id-17 label.sk-toggleable__label {cursor: pointer;display: block;width: 100%;margin-bottom: 0;padding: 0.3em;box-sizing: border-box;text-align: center;}#sk-container-id-17 label.sk-toggleable__label-arrow:before {content: \"▸\";float: left;margin-right: 0.25em;color: #696969;}#sk-container-id-17 label.sk-toggleable__label-arrow:hover:before {color: black;}#sk-container-id-17 div.sk-estimator:hover label.sk-toggleable__label-arrow:before {color: black;}#sk-container-id-17 div.sk-toggleable__content {max-height: 0;max-width: 0;overflow: hidden;text-align: left;background-color: #f0f8ff;}#sk-container-id-17 div.sk-toggleable__content pre {margin: 0.2em;color: black;border-radius: 0.25em;background-color: #f0f8ff;}#sk-container-id-17 input.sk-toggleable__control:checked~div.sk-toggleable__content {max-height: 200px;max-width: 100%;overflow: auto;}#sk-container-id-17 input.sk-toggleable__control:checked~label.sk-toggleable__label-arrow:before {content: \"▾\";}#sk-container-id-17 div.sk-estimator input.sk-toggleable__control:checked~label.sk-toggleable__label {background-color: #d4ebff;}#sk-container-id-17 div.sk-label input.sk-toggleable__control:checked~label.sk-toggleable__label {background-color: #d4ebff;}#sk-container-id-17 input.sk-hidden--visually {border: 0;clip: rect(1px 1px 1px 1px);clip: rect(1px, 1px, 1px, 1px);height: 1px;margin: -1px;overflow: hidden;padding: 0;position: absolute;width: 1px;}#sk-container-id-17 div.sk-estimator {font-family: monospace;background-color: #f0f8ff;border: 1px dotted black;border-radius: 0.25em;box-sizing: border-box;margin-bottom: 0.5em;}#sk-container-id-17 div.sk-estimator:hover {background-color: #d4ebff;}#sk-container-id-17 div.sk-parallel-item::after {content: \"\";width: 100%;border-bottom: 1px solid gray;flex-grow: 1;}#sk-container-id-17 div.sk-label:hover label.sk-toggleable__label {background-color: #d4ebff;}#sk-container-id-17 div.sk-serial::before {content: \"\";position: absolute;border-left: 1px solid gray;box-sizing: border-box;top: 0;bottom: 0;left: 50%;z-index: 0;}#sk-container-id-17 div.sk-serial {display: flex;flex-direction: column;align-items: center;background-color: white;padding-right: 0.2em;padding-left: 0.2em;position: relative;}#sk-container-id-17 div.sk-item {position: relative;z-index: 1;}#sk-container-id-17 div.sk-parallel {display: flex;align-items: stretch;justify-content: center;background-color: white;position: relative;}#sk-container-id-17 div.sk-item::before, #sk-container-id-17 div.sk-parallel-item::before {content: \"\";position: absolute;border-left: 1px solid gray;box-sizing: border-box;top: 0;bottom: 0;left: 50%;z-index: -1;}#sk-container-id-17 div.sk-parallel-item {display: flex;flex-direction: column;z-index: 1;position: relative;background-color: white;}#sk-container-id-17 div.sk-parallel-item:first-child::after {align-self: flex-end;width: 50%;}#sk-container-id-17 div.sk-parallel-item:last-child::after {align-self: flex-start;width: 50%;}#sk-container-id-17 div.sk-parallel-item:only-child::after {width: 0;}#sk-container-id-17 div.sk-dashed-wrapped {border: 1px dashed gray;margin: 0 0.4em 0.5em 0.4em;box-sizing: border-box;padding-bottom: 0.4em;background-color: white;}#sk-container-id-17 div.sk-label label {font-family: monospace;font-weight: bold;display: inline-block;line-height: 1.2em;}#sk-container-id-17 div.sk-label-container {text-align: center;}#sk-container-id-17 div.sk-container {/* jupyter's `normalize.less` sets `[hidden] { display: none; }` but bootstrap.min.css set `[hidden] { display: none !important; }` so we also need the `!important` here to be able to override the default hidden behavior on the sphinx rendered scikit-learn.org. See: https://github.com/scikit-learn/scikit-learn/issues/21755 */display: inline-block !important;position: relative;}#sk-container-id-17 div.sk-text-repr-fallback {display: none;}</style><div id=\"sk-container-id-17\" class=\"sk-top-container\"><div class=\"sk-text-repr-fallback\"><pre>DecisionTreeRegressor(max_depth=6, random_state=2402)</pre><b>In a Jupyter environment, please rerun this cell to show the HTML representation or trust the notebook. <br />On GitHub, the HTML representation is unable to render, please try loading this page with nbviewer.org.</b></div><div class=\"sk-container\" hidden><div class=\"sk-item\"><div class=\"sk-estimator sk-toggleable\"><input class=\"sk-toggleable__control sk-hidden--visually\" id=\"sk-estimator-id-17\" type=\"checkbox\" checked><label for=\"sk-estimator-id-17\" class=\"sk-toggleable__label sk-toggleable__label-arrow\">DecisionTreeRegressor</label><div class=\"sk-toggleable__content\"><pre>DecisionTreeRegressor(max_depth=6, random_state=2402)</pre></div></div></div></div></div>"
      ],
      "text/plain": [
       "DecisionTreeRegressor(max_depth=6, random_state=2402)"
      ]
     },
     "execution_count": 112,
     "metadata": {},
     "output_type": "execute_result"
    }
   ],
   "source": [
    "regr3 = DecisionTreeRegressor(max_depth=6, random_state=2402)\n",
    "regr3.fit(X_train, y_train)"
   ]
  },
  {
   "cell_type": "code",
   "execution_count": 79,
   "metadata": {},
   "outputs": [
    {
     "name": "stdout",
     "output_type": "stream",
     "text": [
      "MSE Train : 1.9216921152518978\n",
      "MSE Test: 21.412710375661046\n"
     ]
    }
   ],
   "source": [
    "mse_train_1 = mean_squared_error(y_true=y_train, y_pred=regr1.predict(X_train))\n",
    "mse_test_1 = mean_squared_error(y_true=y_test, y_pred=regr1.predict(X_test))\n",
    "\n",
    "print(f'MSE Train : {mse_train_1}\\nMSE Test: {mse_test_1}')"
   ]
  },
  {
   "cell_type": "code",
   "execution_count": 80,
   "metadata": {},
   "outputs": [
    {
     "name": "stdout",
     "output_type": "stream",
     "text": [
      "MSE Train: 2.858913936483642\n",
      "MSE Test: 14.182897739145146\n"
     ]
    }
   ],
   "source": [
    "mse_train_2 = mean_squared_error(y_true=y_train, y_pred=regr2.predict(X_train))\n",
    "mse_test_2 = mean_squared_error(y_true=y_test, y_pred=regr2.predict(X_test))\n",
    "\n",
    "print(f'MSE Train: {mse_train_2}\\nMSE Test: {mse_test_2}')"
   ]
  },
  {
   "cell_type": "code",
   "execution_count": 113,
   "metadata": {},
   "outputs": [
    {
     "name": "stdout",
     "output_type": "stream",
     "text": [
      "MSE Train: 4.525456308913936\n",
      "MSE Test: 19.670431068281058\n"
     ]
    }
   ],
   "source": [
    "mse_train_3 = mean_squared_error(y_true=y_train, y_pred=regr3.predict(X_train))\n",
    "mse_test_3 = mean_squared_error(y_true=y_test, y_pred=regr3.predict(X_test))\n",
    "\n",
    "print(f'MSE Train: {mse_train_3}\\nMSE Test: {mse_test_3}')"
   ]
  },
  {
   "cell_type": "markdown",
   "metadata": {},
   "source": [
    "### 6. Árvore com menor MSE e maior R2"
   ]
  },
  {
   "cell_type": "code",
   "execution_count": 114,
   "metadata": {},
   "outputs": [
    {
     "name": "stdout",
     "output_type": "stream",
     "text": [
      "Erro Quadrático Médio (MSE): 1.92\n",
      "Coeficiente de determinação (R-quadrado): 0.98\n"
     ]
    }
   ],
   "source": [
    "print('Erro Quadrático Médio (MSE):', \n",
    "       round(mean_squared_error(y_true=y_train, y_pred=regr1.predict(X_train)), 2))\n",
    "\n",
    "print('Coeficiente de determinação (R-quadrado):', \n",
    "       round(regr1.score(X=X_train, y=y_train), 2))"
   ]
  },
  {
   "cell_type": "code",
   "execution_count": 115,
   "metadata": {},
   "outputs": [
    {
     "name": "stdout",
     "output_type": "stream",
     "text": [
      "Melhor árvore:\n",
      "Árvore 1: DecisionTreeRegressor(max_depth=8, random_state=2402)\n"
     ]
    }
   ],
   "source": [
    "print(f'Melhor árvore:\\nÁrvore 1: {regr1}')"
   ]
  },
  {
   "cell_type": "markdown",
   "metadata": {},
   "source": [
    "### 5. Predição do valor do imóvel na base de treinamento."
   ]
  },
  {
   "cell_type": "code",
   "execution_count": 116,
   "metadata": {},
   "outputs": [
    {
     "data": {
      "text/html": [
       "<div>\n",
       "<style scoped>\n",
       "    .dataframe tbody tr th:only-of-type {\n",
       "        vertical-align: middle;\n",
       "    }\n",
       "\n",
       "    .dataframe tbody tr th {\n",
       "        vertical-align: top;\n",
       "    }\n",
       "\n",
       "    .dataframe thead th {\n",
       "        text-align: right;\n",
       "    }\n",
       "</style>\n",
       "<table border=\"1\" class=\"dataframe\">\n",
       "  <thead>\n",
       "    <tr style=\"text-align: right;\">\n",
       "      <th></th>\n",
       "      <th>MEDV</th>\n",
       "      <th>Valor predito do imóvel na base de treinamento</th>\n",
       "    </tr>\n",
       "  </thead>\n",
       "  <tbody>\n",
       "    <tr>\n",
       "      <th>0</th>\n",
       "      <td>24.6</td>\n",
       "      <td>23.966667</td>\n",
       "    </tr>\n",
       "    <tr>\n",
       "      <th>1</th>\n",
       "      <td>23.8</td>\n",
       "      <td>23.966667</td>\n",
       "    </tr>\n",
       "    <tr>\n",
       "      <th>2</th>\n",
       "      <td>12.3</td>\n",
       "      <td>12.400000</td>\n",
       "    </tr>\n",
       "    <tr>\n",
       "      <th>3</th>\n",
       "      <td>19.2</td>\n",
       "      <td>21.180000</td>\n",
       "    </tr>\n",
       "    <tr>\n",
       "      <th>4</th>\n",
       "      <td>27.9</td>\n",
       "      <td>27.966667</td>\n",
       "    </tr>\n",
       "    <tr>\n",
       "      <th>...</th>\n",
       "      <td>...</td>\n",
       "      <td>...</td>\n",
       "    </tr>\n",
       "    <tr>\n",
       "      <th>349</th>\n",
       "      <td>32.0</td>\n",
       "      <td>29.257143</td>\n",
       "    </tr>\n",
       "    <tr>\n",
       "      <th>350</th>\n",
       "      <td>17.1</td>\n",
       "      <td>17.100000</td>\n",
       "    </tr>\n",
       "    <tr>\n",
       "      <th>351</th>\n",
       "      <td>20.4</td>\n",
       "      <td>20.137500</td>\n",
       "    </tr>\n",
       "    <tr>\n",
       "      <th>352</th>\n",
       "      <td>19.4</td>\n",
       "      <td>19.033333</td>\n",
       "    </tr>\n",
       "    <tr>\n",
       "      <th>353</th>\n",
       "      <td>19.7</td>\n",
       "      <td>20.825000</td>\n",
       "    </tr>\n",
       "  </tbody>\n",
       "</table>\n",
       "<p>354 rows × 2 columns</p>\n",
       "</div>"
      ],
      "text/plain": [
       "     MEDV  Valor predito do imóvel na base de treinamento\n",
       "0    24.6                                       23.966667\n",
       "1    23.8                                       23.966667\n",
       "2    12.3                                       12.400000\n",
       "3    19.2                                       21.180000\n",
       "4    27.9                                       27.966667\n",
       "..    ...                                             ...\n",
       "349  32.0                                       29.257143\n",
       "350  17.1                                       17.100000\n",
       "351  20.4                                       20.137500\n",
       "352  19.4                                       19.033333\n",
       "353  19.7                                       20.825000\n",
       "\n",
       "[354 rows x 2 columns]"
      ]
     },
     "execution_count": 116,
     "metadata": {},
     "output_type": "execute_result"
    }
   ],
   "source": [
    "pd.concat(objs=[y_train.reset_index(drop=True), \n",
    "                pd.DataFrame(data=regr1.predict(X_train), \n",
    "                columns=['Valor predito do imóvel na base de treinamento'])], axis=1)"
   ]
  },
  {
   "cell_type": "markdown",
   "metadata": {},
   "source": [
    "### 7. Analisando CCP-Alpha e Impurities"
   ]
  },
  {
   "cell_type": "code",
   "execution_count": 84,
   "metadata": {},
   "outputs": [
    {
     "data": {
      "text/plain": [
       "{'ccp_alphas': array([0.00000000e+00, 1.88323917e-05, 5.64971751e-05, 1.69491525e-04,\n",
       "        2.25988701e-04, 3.53107345e-04, 5.08474576e-04, 6.77966102e-04,\n",
       "        6.77966102e-04, 6.92090395e-04, 1.70903955e-03, 1.70903955e-03,\n",
       "        2.03389831e-03, 3.18267420e-03, 3.25423729e-03, 3.73728814e-03,\n",
       "        4.08192090e-03, 4.55743879e-03, 4.55743879e-03, 4.76694915e-03,\n",
       "        4.77401130e-03, 5.20009416e-03, 5.44256121e-03, 6.61252354e-03,\n",
       "        7.23163842e-03, 7.91902072e-03, 9.94713479e-03, 1.04001883e-02,\n",
       "        1.50536723e-02, 1.58509887e-02, 1.99246704e-02, 2.46101695e-02,\n",
       "        2.50894539e-02, 2.61158192e-02, 2.65222850e-02, 2.70529661e-02,\n",
       "        2.72128060e-02, 3.22269303e-02, 3.24340866e-02, 3.30509259e-02,\n",
       "        3.56241440e-02, 4.11365348e-02, 4.23631961e-02, 4.61440678e-02,\n",
       "        4.93304412e-02, 5.03225047e-02, 5.19120763e-02, 5.22622411e-02,\n",
       "        5.52268447e-02, 6.15254237e-02, 6.17274684e-02, 6.61252354e-02,\n",
       "        7.00956106e-02, 7.94491525e-02, 8.41058537e-02, 8.64920498e-02,\n",
       "        9.00271527e-02, 9.22037429e-02, 1.16953309e-01, 1.39956955e-01,\n",
       "        1.40141248e-01, 1.51195363e-01, 1.54274953e-01, 1.55732866e-01,\n",
       "        1.58902542e-01, 1.65329959e-01, 1.71758945e-01, 1.75371940e-01,\n",
       "        1.92308145e-01, 1.93446798e-01, 2.49844633e-01, 2.72546139e-01,\n",
       "        3.05854991e-01, 3.57918839e-01, 3.84217007e-01, 4.22693032e-01,\n",
       "        5.57658914e-01, 6.31428773e-01, 6.53084746e-01, 7.81256016e-01,\n",
       "        7.95706999e-01, 8.12656443e-01, 1.03476695e+00, 1.09295717e+00,\n",
       "        1.51593426e+00, 3.04447658e+00, 3.48823252e+00, 3.85679015e+00,\n",
       "        4.91390283e+00, 1.57807615e+01, 3.66745070e+01]),\n",
       " 'impurities': array([ 1.92169212,  1.92171095,  1.92176744,  1.92193694,  1.92216293,\n",
       "         1.92251603,  1.92302451,  1.92370247,  1.92438044,  1.92507253,\n",
       "         1.92678157,  1.92849061,  1.93052451,  1.93370718,  1.93696142,\n",
       "         1.94069871,  1.94478063,  1.94933807,  1.95389551,  1.95866245,\n",
       "         1.96343647,  1.96863656,  1.97407912,  1.98069164,  1.98792328,\n",
       "         1.9958423 ,  2.00578944,  2.01618963,  2.0312433 ,  2.04709429,\n",
       "         2.06701896,  2.09162913,  2.11671858,  2.1428344 ,  2.16935669,\n",
       "         2.19640965,  2.22362246,  2.25584939,  2.28828347,  2.3213344 ,\n",
       "         2.35695854,  2.39809508,  2.44045828,  2.48660234,  2.53593278,\n",
       "         2.63657779,  2.68848987,  2.74075211,  2.79597896,  2.85750438,\n",
       "         2.91923185,  2.98535708,  3.05545269,  3.13490185,  3.2190077 ,\n",
       "         3.3919918 ,  3.48201895,  3.5742227 ,  3.691176  ,  3.83113296,\n",
       "         3.97127421,  4.12246957,  4.27674452,  4.43247739,  4.75028247,\n",
       "         5.08094239,  5.25270134,  5.42807328,  5.81268957,  6.00613637,\n",
       "         6.255981  ,  6.52852714,  6.83438213,  7.19230097,  7.57651797,\n",
       "         7.99921101,  8.55686992,  9.18829869,  9.84138344, 10.62263945,\n",
       "        11.41834645, 12.2310029 , 13.26576985, 14.35872702, 15.87466128,\n",
       "        18.91913785, 22.40737037, 26.26416052, 31.17806335, 46.95882486,\n",
       "        83.63333182])}"
      ]
     },
     "execution_count": 84,
     "metadata": {},
     "output_type": "execute_result"
    }
   ],
   "source": [
    "path = regr1.cost_complexity_pruning_path(X_train, y_train)\n",
    "path"
   ]
  },
  {
   "cell_type": "code",
   "execution_count": 86,
   "metadata": {},
   "outputs": [
    {
     "data": {
      "text/plain": [
       "Text(0, 0.5, 'Alphas')"
      ]
     },
     "execution_count": 86,
     "metadata": {},
     "output_type": "execute_result"
    },
    {
     "data": {
      "image/png": "[encoded data removed]",
      "text/plain": [
       "<Figure size 640x480 with 1 Axes>"
      ]
     },
     "metadata": {},
     "output_type": "display_data"
    }
   ],
   "source": [
    "ccp_alphas, impurities = path.ccp_alphas, path.impurities\n",
    "\n",
    "plt.plot(ccp_alphas, impurities)\n",
    "plt.xlabel(\"Impurezas\")\n",
    "plt.ylabel(\"Alphas\")"
   ]
  },
  {
   "cell_type": "markdown",
   "metadata": {},
   "source": [
    "### 8. Melhor valor de CCP-Alpha para a Árvore"
   ]
  },
  {
   "cell_type": "code",
   "execution_count": 90,
   "metadata": {},
   "outputs": [],
   "source": [
    "regrs = []\n",
    "\n",
    "for ccp_alpha in ccp_alphas:\n",
    "    regr = DecisionTreeRegressor(random_state=2402, ccp_alpha=ccp_alpha)\n",
    "    regr.fit(X_train, y_train)\n",
    "    regrs.append(regr)"
   ]
  },
  {
   "cell_type": "code",
   "execution_count": 94,
   "metadata": {},
   "outputs": [
    {
     "data": {
      "text/plain": [
       "Text(0, 0.5, 'Profundidade da árvore')"
      ]
     },
     "execution_count": 94,
     "metadata": {},
     "output_type": "execute_result"
    },
    {
     "data": {
      "image/png": "[encoded data removed]",
      "text/plain": [
       "<Figure size 640x480 with 1 Axes>"
      ]
     },
     "metadata": {},
     "output_type": "display_data"
    }
   ],
   "source": [
    "tree_depths = [regr.tree_.max_depth for regr in regrs]\n",
    "plt.plot(ccp_alphas[:-1], tree_depths[:-1])\n",
    "plt.xlabel(\"Alpha efetivo\")\n",
    "plt.ylabel(\"Profundidade da árvore\")"
   ]
  },
  {
   "cell_type": "markdown",
   "metadata": {},
   "source": [
    "### 9. Analisando MSE/Alpha"
   ]
  },
  {
   "cell_type": "code",
   "execution_count": 169,
   "metadata": {},
   "outputs": [
    {
     "data": {
      "image/png": "[encoded data removed]",
      "text/plain": [
       "<Figure size 1200x600 with 1 Axes>"
      ]
     },
     "metadata": {},
     "output_type": "display_data"
    }
   ],
   "source": [
    "train_scores = [mean_squared_error(y_train , regr.predict(X_train)) for regr in regrs]\n",
    "test_scores  = [mean_squared_error(y_test  , regr.predict(X_test )) for regr in regrs]\n",
    "\n",
    "fig, ax = plt.subplots()\n",
    "ax.set_xlabel(\"alpha\")\n",
    "ax.set_ylabel(\"MSE\")\n",
    "ax.set_title(\"MSE x alpha (treino e teste)\")\n",
    "\n",
    "ax.plot(ccp_alphas[:-1], train_scores[:-1], marker='o', label=\"treino\",\n",
    "        drawstyle=\"steps-post\")\n",
    "ax.plot(ccp_alphas[:-1], test_scores[:-1], marker='o', label=\"teste\",\n",
    "        drawstyle=\"steps-post\")\n",
    "\n",
    "ax.legend()\n",
    "plt.show()"
   ]
  },
  {
   "cell_type": "code",
   "execution_count": 170,
   "metadata": {},
   "outputs": [],
   "source": [
    "table = pd.DataFrame({'alpha': ccp_alphas, 'test_scores': test_scores, 'train_scores': train_scores})"
   ]
  },
  {
   "cell_type": "markdown",
   "metadata": {},
   "source": [
    "* `MENOR CCP-ALPHA (3.044477) PARA O MENOR MSE (14.058252)`"
   ]
  },
  {
   "cell_type": "code",
   "execution_count": 173,
   "metadata": {},
   "outputs": [
    {
     "data": {
      "text/html": [
       "<div>\n",
       "<style scoped>\n",
       "    .dataframe tbody tr th:only-of-type {\n",
       "        vertical-align: middle;\n",
       "    }\n",
       "\n",
       "    .dataframe tbody tr th {\n",
       "        vertical-align: top;\n",
       "    }\n",
       "\n",
       "    .dataframe thead th {\n",
       "        text-align: right;\n",
       "    }\n",
       "</style>\n",
       "<table border=\"1\" class=\"dataframe\">\n",
       "  <thead>\n",
       "    <tr style=\"text-align: right;\">\n",
       "      <th></th>\n",
       "      <th>alpha</th>\n",
       "      <th>test_scores</th>\n",
       "      <th>train_scores</th>\n",
       "    </tr>\n",
       "  </thead>\n",
       "  <tbody>\n",
       "    <tr>\n",
       "      <th>85</th>\n",
       "      <td>3.044477</td>\n",
       "      <td>14.058252</td>\n",
       "      <td>18.919138</td>\n",
       "    </tr>\n",
       "    <tr>\n",
       "      <th>86</th>\n",
       "      <td>3.488233</td>\n",
       "      <td>14.058252</td>\n",
       "      <td>18.919138</td>\n",
       "    </tr>\n",
       "    <tr>\n",
       "      <th>73</th>\n",
       "      <td>0.357919</td>\n",
       "      <td>14.566947</td>\n",
       "      <td>6.834382</td>\n",
       "    </tr>\n",
       "    <tr>\n",
       "      <th>81</th>\n",
       "      <td>0.812656</td>\n",
       "      <td>14.582596</td>\n",
       "      <td>12.231003</td>\n",
       "    </tr>\n",
       "    <tr>\n",
       "      <th>84</th>\n",
       "      <td>1.515934</td>\n",
       "      <td>14.603770</td>\n",
       "      <td>15.874661</td>\n",
       "    </tr>\n",
       "    <tr>\n",
       "      <th>...</th>\n",
       "      <td>...</td>\n",
       "      <td>...</td>\n",
       "      <td>...</td>\n",
       "    </tr>\n",
       "    <tr>\n",
       "      <th>54</th>\n",
       "      <td>0.084106</td>\n",
       "      <td>18.820013</td>\n",
       "      <td>2.831875</td>\n",
       "    </tr>\n",
       "    <tr>\n",
       "      <th>87</th>\n",
       "      <td>3.856790</td>\n",
       "      <td>26.846761</td>\n",
       "      <td>26.264161</td>\n",
       "    </tr>\n",
       "    <tr>\n",
       "      <th>88</th>\n",
       "      <td>4.913903</td>\n",
       "      <td>31.585263</td>\n",
       "      <td>31.178063</td>\n",
       "    </tr>\n",
       "    <tr>\n",
       "      <th>89</th>\n",
       "      <td>15.780762</td>\n",
       "      <td>46.926825</td>\n",
       "      <td>46.958825</td>\n",
       "    </tr>\n",
       "    <tr>\n",
       "      <th>90</th>\n",
       "      <td>36.674507</td>\n",
       "      <td>46.926825</td>\n",
       "      <td>46.958825</td>\n",
       "    </tr>\n",
       "  </tbody>\n",
       "</table>\n",
       "<p>91 rows × 3 columns</p>\n",
       "</div>"
      ],
      "text/plain": [
       "        alpha  test_scores  train_scores\n",
       "85   3.044477    14.058252     18.919138\n",
       "86   3.488233    14.058252     18.919138\n",
       "73   0.357919    14.566947      6.834382\n",
       "81   0.812656    14.582596     12.231003\n",
       "84   1.515934    14.603770     15.874661\n",
       "..        ...          ...           ...\n",
       "54   0.084106    18.820013      2.831875\n",
       "87   3.856790    26.846761     26.264161\n",
       "88   4.913903    31.585263     31.178063\n",
       "89  15.780762    46.926825     46.958825\n",
       "90  36.674507    46.926825     46.958825\n",
       "\n",
       "[91 rows x 3 columns]"
      ]
     },
     "execution_count": 173,
     "metadata": {},
     "output_type": "execute_result"
    }
   ],
   "source": [
    "table.sort_values(by=['test_scores', 'train_scores'])"
   ]
  },
  {
   "cell_type": "markdown",
   "metadata": {},
   "source": [
    "### 10. Árvore Final"
   ]
  },
  {
   "cell_type": "code",
   "execution_count": 163,
   "metadata": {},
   "outputs": [
    {
     "data": {
      "text/html": [
       "<style>#sk-container-id-40 {color: black;}#sk-container-id-40 pre{padding: 0;}#sk-container-id-40 div.sk-toggleable {background-color: white;}#sk-container-id-40 label.sk-toggleable__label {cursor: pointer;display: block;width: 100%;margin-bottom: 0;padding: 0.3em;box-sizing: border-box;text-align: center;}#sk-container-id-40 label.sk-toggleable__label-arrow:before {content: \"▸\";float: left;margin-right: 0.25em;color: #696969;}#sk-container-id-40 label.sk-toggleable__label-arrow:hover:before {color: black;}#sk-container-id-40 div.sk-estimator:hover label.sk-toggleable__label-arrow:before {color: black;}#sk-container-id-40 div.sk-toggleable__content {max-height: 0;max-width: 0;overflow: hidden;text-align: left;background-color: #f0f8ff;}#sk-container-id-40 div.sk-toggleable__content pre {margin: 0.2em;color: black;border-radius: 0.25em;background-color: #f0f8ff;}#sk-container-id-40 input.sk-toggleable__control:checked~div.sk-toggleable__content {max-height: 200px;max-width: 100%;overflow: auto;}#sk-container-id-40 input.sk-toggleable__control:checked~label.sk-toggleable__label-arrow:before {content: \"▾\";}#sk-container-id-40 div.sk-estimator input.sk-toggleable__control:checked~label.sk-toggleable__label {background-color: #d4ebff;}#sk-container-id-40 div.sk-label input.sk-toggleable__control:checked~label.sk-toggleable__label {background-color: #d4ebff;}#sk-container-id-40 input.sk-hidden--visually {border: 0;clip: rect(1px 1px 1px 1px);clip: rect(1px, 1px, 1px, 1px);height: 1px;margin: -1px;overflow: hidden;padding: 0;position: absolute;width: 1px;}#sk-container-id-40 div.sk-estimator {font-family: monospace;background-color: #f0f8ff;border: 1px dotted black;border-radius: 0.25em;box-sizing: border-box;margin-bottom: 0.5em;}#sk-container-id-40 div.sk-estimator:hover {background-color: #d4ebff;}#sk-container-id-40 div.sk-parallel-item::after {content: \"\";width: 100%;border-bottom: 1px solid gray;flex-grow: 1;}#sk-container-id-40 div.sk-label:hover label.sk-toggleable__label {background-color: #d4ebff;}#sk-container-id-40 div.sk-serial::before {content: \"\";position: absolute;border-left: 1px solid gray;box-sizing: border-box;top: 0;bottom: 0;left: 50%;z-index: 0;}#sk-container-id-40 div.sk-serial {display: flex;flex-direction: column;align-items: center;background-color: white;padding-right: 0.2em;padding-left: 0.2em;position: relative;}#sk-container-id-40 div.sk-item {position: relative;z-index: 1;}#sk-container-id-40 div.sk-parallel {display: flex;align-items: stretch;justify-content: center;background-color: white;position: relative;}#sk-container-id-40 div.sk-item::before, #sk-container-id-40 div.sk-parallel-item::before {content: \"\";position: absolute;border-left: 1px solid gray;box-sizing: border-box;top: 0;bottom: 0;left: 50%;z-index: -1;}#sk-container-id-40 div.sk-parallel-item {display: flex;flex-direction: column;z-index: 1;position: relative;background-color: white;}#sk-container-id-40 div.sk-parallel-item:first-child::after {align-self: flex-end;width: 50%;}#sk-container-id-40 div.sk-parallel-item:last-child::after {align-self: flex-start;width: 50%;}#sk-container-id-40 div.sk-parallel-item:only-child::after {width: 0;}#sk-container-id-40 div.sk-dashed-wrapped {border: 1px dashed gray;margin: 0 0.4em 0.5em 0.4em;box-sizing: border-box;padding-bottom: 0.4em;background-color: white;}#sk-container-id-40 div.sk-label label {font-family: monospace;font-weight: bold;display: inline-block;line-height: 1.2em;}#sk-container-id-40 div.sk-label-container {text-align: center;}#sk-container-id-40 div.sk-container {/* jupyter's `normalize.less` sets `[hidden] { display: none; }` but bootstrap.min.css set `[hidden] { display: none !important; }` so we also need the `!important` here to be able to override the default hidden behavior on the sphinx rendered scikit-learn.org. See: https://github.com/scikit-learn/scikit-learn/issues/21755 */display: inline-block !important;position: relative;}#sk-container-id-40 div.sk-text-repr-fallback {display: none;}</style><div id=\"sk-container-id-40\" class=\"sk-top-container\"><div class=\"sk-text-repr-fallback\"><pre>DecisionTreeRegressor(ccp_alpha=3.044477, max_depth=8, random_state=2402)</pre><b>In a Jupyter environment, please rerun this cell to show the HTML representation or trust the notebook. <br />On GitHub, the HTML representation is unable to render, please try loading this page with nbviewer.org.</b></div><div class=\"sk-container\" hidden><div class=\"sk-item\"><div class=\"sk-estimator sk-toggleable\"><input class=\"sk-toggleable__control sk-hidden--visually\" id=\"sk-estimator-id-40\" type=\"checkbox\" checked><label for=\"sk-estimator-id-40\" class=\"sk-toggleable__label sk-toggleable__label-arrow\">DecisionTreeRegressor</label><div class=\"sk-toggleable__content\"><pre>DecisionTreeRegressor(ccp_alpha=3.044477, max_depth=8, random_state=2402)</pre></div></div></div></div></div>"
      ],
      "text/plain": [
       "DecisionTreeRegressor(ccp_alpha=3.044477, max_depth=8, random_state=2402)"
      ]
     },
     "execution_count": 163,
     "metadata": {},
     "output_type": "execute_result"
    }
   ],
   "source": [
    "regr = DecisionTreeRegressor(max_depth=8, ccp_alpha=3.044477, random_state=2402)\n",
    "regr.fit(X_train, y_train)"
   ]
  },
  {
   "cell_type": "code",
   "execution_count": 164,
   "metadata": {},
   "outputs": [
    {
     "name": "stdout",
     "output_type": "stream",
     "text": [
      "MSE Train : 18.91913785437539\n",
      "MSE Test: 14.058251669005191\n"
     ]
    }
   ],
   "source": [
    "mse_train = mean_squared_error(y_true=y_train, y_pred=regr.predict(X_train))\n",
    "mse_test = mean_squared_error(y_true=y_test, y_pred=regr.predict(X_test))\n",
    "\n",
    "print(f'MSE Train : {mse_train}\\nMSE Test: {mse_test}')"
   ]
  },
  {
   "cell_type": "code",
   "execution_count": 165,
   "metadata": {},
   "outputs": [
    {
     "name": "stdout",
     "output_type": "stream",
     "text": [
      "Erro Quadrático Médio (MSE): 18.92\n",
      "Coeficiente de determinação (R-quadrado): 0.77\n"
     ]
    }
   ],
   "source": [
    "print('Erro Quadrático Médio (MSE):', \n",
    "       round(mean_squared_error(y_true=y_train, y_pred=regr.predict(X_train)), 2))\n",
    "\n",
    "print('Coeficiente de determinação (R-quadrado):', \n",
    "       round(regr.score(X=X_train, y=y_train), 2))"
   ]
  },
  {
   "cell_type": "code",
   "execution_count": 166,
   "metadata": {},
   "outputs": [
    {
     "data": {
      "text/html": [
       "<div>\n",
       "<style scoped>\n",
       "    .dataframe tbody tr th:only-of-type {\n",
       "        vertical-align: middle;\n",
       "    }\n",
       "\n",
       "    .dataframe tbody tr th {\n",
       "        vertical-align: top;\n",
       "    }\n",
       "\n",
       "    .dataframe thead th {\n",
       "        text-align: right;\n",
       "    }\n",
       "</style>\n",
       "<table border=\"1\" class=\"dataframe\">\n",
       "  <thead>\n",
       "    <tr style=\"text-align: right;\">\n",
       "      <th></th>\n",
       "      <th>MEDV</th>\n",
       "      <th>Valor predito do imóvel (treino)</th>\n",
       "    </tr>\n",
       "  </thead>\n",
       "  <tbody>\n",
       "    <tr>\n",
       "      <th>0</th>\n",
       "      <td>24.6</td>\n",
       "      <td>21.834783</td>\n",
       "    </tr>\n",
       "    <tr>\n",
       "      <th>1</th>\n",
       "      <td>23.8</td>\n",
       "      <td>21.834783</td>\n",
       "    </tr>\n",
       "    <tr>\n",
       "      <th>2</th>\n",
       "      <td>12.3</td>\n",
       "      <td>15.189516</td>\n",
       "    </tr>\n",
       "    <tr>\n",
       "      <th>3</th>\n",
       "      <td>19.2</td>\n",
       "      <td>21.834783</td>\n",
       "    </tr>\n",
       "    <tr>\n",
       "      <th>4</th>\n",
       "      <td>27.9</td>\n",
       "      <td>28.177778</td>\n",
       "    </tr>\n",
       "    <tr>\n",
       "      <th>...</th>\n",
       "      <td>...</td>\n",
       "      <td>...</td>\n",
       "    </tr>\n",
       "    <tr>\n",
       "      <th>349</th>\n",
       "      <td>32.0</td>\n",
       "      <td>28.177778</td>\n",
       "    </tr>\n",
       "    <tr>\n",
       "      <th>350</th>\n",
       "      <td>17.1</td>\n",
       "      <td>15.189516</td>\n",
       "    </tr>\n",
       "    <tr>\n",
       "      <th>351</th>\n",
       "      <td>20.4</td>\n",
       "      <td>21.834783</td>\n",
       "    </tr>\n",
       "    <tr>\n",
       "      <th>352</th>\n",
       "      <td>19.4</td>\n",
       "      <td>15.189516</td>\n",
       "    </tr>\n",
       "    <tr>\n",
       "      <th>353</th>\n",
       "      <td>19.7</td>\n",
       "      <td>15.189516</td>\n",
       "    </tr>\n",
       "  </tbody>\n",
       "</table>\n",
       "<p>354 rows × 2 columns</p>\n",
       "</div>"
      ],
      "text/plain": [
       "     MEDV  Valor predito do imóvel (treino)\n",
       "0    24.6                         21.834783\n",
       "1    23.8                         21.834783\n",
       "2    12.3                         15.189516\n",
       "3    19.2                         21.834783\n",
       "4    27.9                         28.177778\n",
       "..    ...                               ...\n",
       "349  32.0                         28.177778\n",
       "350  17.1                         15.189516\n",
       "351  20.4                         21.834783\n",
       "352  19.4                         15.189516\n",
       "353  19.7                         15.189516\n",
       "\n",
       "[354 rows x 2 columns]"
      ]
     },
     "execution_count": 166,
     "metadata": {},
     "output_type": "execute_result"
    }
   ],
   "source": [
    "pd.concat(objs=[y_train.reset_index(drop=True), \n",
    "                pd.DataFrame(data=regr.predict(X_train), \n",
    "                columns=['Valor predito do imóvel (treino)'])], axis=1)"
   ]
  },
  {
   "cell_type": "markdown",
   "metadata": {},
   "source": [
    "### 7. Visualize esta árvore."
   ]
  },
  {
   "cell_type": "code",
   "execution_count": 168,
   "metadata": {},
   "outputs": [
    {
     "data": {
      "image/png": "[encoded data removed]",
      "text/plain": [
       "<Figure size 1200x600 with 1 Axes>"
      ]
     },
     "metadata": {},
     "output_type": "display_data"
    }
   ],
   "source": [
    "plt.rc('figure', figsize=(12,6))\n",
    "\n",
    "tree.plot_tree(decision_tree=regr, \n",
    "               feature_names=X.columns.to_list(), \n",
    "               filled=True);"
   ]
  }
 ],
 "metadata": {
  "kernelspec": {
   "display_name": "Python 3 (ipykernel)",
   "language": "python",
   "name": "python3"
  },
  "language_info": {
   "codemirror_mode": {
    "name": "ipython",
    "version": 3
   },
   "file_extension": ".py",
   "mimetype": "text/x-python",
   "name": "python",
   "nbconvert_exporter": "python",
   "pygments_lexer": "ipython3",
   "version": "3.11.5"
  }
 },
 "nbformat": 4,
 "nbformat_minor": 4
}
